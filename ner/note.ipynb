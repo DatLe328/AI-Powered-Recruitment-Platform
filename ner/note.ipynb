{
 "cells": [
  {
   "cell_type": "code",
   "execution_count": 1,
   "id": "dbfda1a4",
   "metadata": {},
   "outputs": [],
   "source": [
    "import pandas as pd\n",
    "import matplotlib.pyplot as plt\n",
    "import seaborn as sns"
   ]
  },
  {
   "cell_type": "code",
   "execution_count": null,
   "id": "57364671",
   "metadata": {},
   "outputs": [
    {
     "name": "stdout",
     "output_type": "stream",
     "text": [
      "<class 'pandas.core.frame.DataFrame'>\n",
      "RangeIndex: 34714 entries, 0 to 34713\n",
      "Data columns (total 5 columns):\n",
      " #   Column     Non-Null Count  Dtype \n",
      "---  ------     --------------  ----- \n",
      " 0   id         34714 non-null  object\n",
      " 1   infoUrl    34714 non-null  object\n",
      " 2   name       34714 non-null  object\n",
      " 3   type.id    34714 non-null  object\n",
      " 4   type.name  34714 non-null  object\n",
      "dtypes: object(5)\n",
      "memory usage: 1.3+ MB\n"
     ]
    }
   ],
   "source": [
    "df = pd.read_csv(\"data/raw/raw_skills_list.csv\")\n",
    "df.info()"
   ]
  },
  {
   "cell_type": "code",
   "execution_count": 4,
   "id": "a6b9a194",
   "metadata": {},
   "outputs": [
    {
     "data": {
      "text/html": [
       "<div>\n",
       "<style scoped>\n",
       "    .dataframe tbody tr th:only-of-type {\n",
       "        vertical-align: middle;\n",
       "    }\n",
       "\n",
       "    .dataframe tbody tr th {\n",
       "        vertical-align: top;\n",
       "    }\n",
       "\n",
       "    .dataframe thead th {\n",
       "        text-align: right;\n",
       "    }\n",
       "</style>\n",
       "<table border=\"1\" class=\"dataframe\">\n",
       "  <thead>\n",
       "    <tr style=\"text-align: right;\">\n",
       "      <th></th>\n",
       "      <th>id</th>\n",
       "      <th>infoUrl</th>\n",
       "      <th>name</th>\n",
       "      <th>type.id</th>\n",
       "      <th>type.name</th>\n",
       "    </tr>\n",
       "  </thead>\n",
       "  <tbody>\n",
       "    <tr>\n",
       "      <th>0</th>\n",
       "      <td>KS126XS6CQCFGC3NG79X</td>\n",
       "      <td>https://lightcast.io/open-skills/skills/KS126X...</td>\n",
       "      <td>.NET Assemblies</td>\n",
       "      <td>ST1</td>\n",
       "      <td>Specialized Skill</td>\n",
       "    </tr>\n",
       "    <tr>\n",
       "      <th>1</th>\n",
       "      <td>KS1245X66R9YDDQWP4V3</td>\n",
       "      <td>https://lightcast.io/open-skills/skills/KS1245...</td>\n",
       "      <td>.NET Code Analysis (FxCop Analyzers)</td>\n",
       "      <td>ST1</td>\n",
       "      <td>Specialized Skill</td>\n",
       "    </tr>\n",
       "    <tr>\n",
       "      <th>2</th>\n",
       "      <td>ES50D03AC9CFC1A0BC93</td>\n",
       "      <td>https://lightcast.io/open-skills/skills/ES50D0...</td>\n",
       "      <td>.NET Development</td>\n",
       "      <td>ST1</td>\n",
       "      <td>Specialized Skill</td>\n",
       "    </tr>\n",
       "    <tr>\n",
       "      <th>3</th>\n",
       "      <td>KS1200B62W5ZF38RJ7TD</td>\n",
       "      <td>https://lightcast.io/open-skills/skills/KS1200...</td>\n",
       "      <td>.NET Framework</td>\n",
       "      <td>ST1</td>\n",
       "      <td>Specialized Skill</td>\n",
       "    </tr>\n",
       "    <tr>\n",
       "      <th>4</th>\n",
       "      <td>KS126XW78QJCF4TRV2X7</td>\n",
       "      <td>https://lightcast.io/open-skills/skills/KS126X...</td>\n",
       "      <td>.NET Framework 1</td>\n",
       "      <td>ST1</td>\n",
       "      <td>Specialized Skill</td>\n",
       "    </tr>\n",
       "  </tbody>\n",
       "</table>\n",
       "</div>"
      ],
      "text/plain": [
       "                     id                                            infoUrl  \\\n",
       "0  KS126XS6CQCFGC3NG79X  https://lightcast.io/open-skills/skills/KS126X...   \n",
       "1  KS1245X66R9YDDQWP4V3  https://lightcast.io/open-skills/skills/KS1245...   \n",
       "2  ES50D03AC9CFC1A0BC93  https://lightcast.io/open-skills/skills/ES50D0...   \n",
       "3  KS1200B62W5ZF38RJ7TD  https://lightcast.io/open-skills/skills/KS1200...   \n",
       "4  KS126XW78QJCF4TRV2X7  https://lightcast.io/open-skills/skills/KS126X...   \n",
       "\n",
       "                                   name type.id          type.name  \n",
       "0                       .NET Assemblies     ST1  Specialized Skill  \n",
       "1  .NET Code Analysis (FxCop Analyzers)     ST1  Specialized Skill  \n",
       "2                      .NET Development     ST1  Specialized Skill  \n",
       "3                        .NET Framework     ST1  Specialized Skill  \n",
       "4                      .NET Framework 1     ST1  Specialized Skill  "
      ]
     },
     "execution_count": 4,
     "metadata": {},
     "output_type": "execute_result"
    }
   ],
   "source": [
    "df.head()"
   ]
  },
  {
   "cell_type": "code",
   "execution_count": 11,
   "id": "4c6d9c50",
   "metadata": {},
   "outputs": [
    {
     "data": {
      "text/plain": [
       "array(['Specialized Skill', 'Certification', 'Common Skill'], dtype=object)"
      ]
     },
     "execution_count": 11,
     "metadata": {},
     "output_type": "execute_result"
    }
   ],
   "source": [
    "df['type.name'].unique()"
   ]
  },
  {
   "cell_type": "code",
   "execution_count": 12,
   "id": "50080fb0",
   "metadata": {},
   "outputs": [
    {
     "data": {
      "image/png": "[encoded data removed]",
      "text/plain": [
       "<Figure size 640x480 with 1 Axes>"
      ]
     },
     "metadata": {},
     "output_type": "display_data"
    }
   ],
   "source": [
    "sns.countplot(data=df, x='type.name')\n",
    "plt.title('Số lượng theo loại kỹ năng')\n",
    "plt.xlabel('Loại kỹ năng')\n",
    "plt.ylabel('Số lượng')\n",
    "plt.xticks(rotation=45)\n",
    "plt.show()"
   ]
  },
  {
   "cell_type": "code",
   "execution_count": null,
   "id": "ff970889",
   "metadata": {},
   "outputs": [],
   "source": []
  }
 ],
 "metadata": {
  "kernelspec": {
   "display_name": ".venv",
   "language": "python",
   "name": "python3"
  },
  "language_info": {
   "codemirror_mode": {
    "name": "ipython",
    "version": 3
   },
   "file_extension": ".py",
   "mimetype": "text/x-python",
   "name": "python",
   "nbconvert_exporter": "python",
   "pygments_lexer": "ipython3",
   "version": "3.10.11"
  }
 },
 "nbformat": 4,
 "nbformat_minor": 5
}
